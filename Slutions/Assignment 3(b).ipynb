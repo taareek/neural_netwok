{
 "cells": [
  {
   "cell_type": "code",
   "execution_count": 78,
   "id": "31bbf08c",
   "metadata": {},
   "outputs": [],
   "source": [
    "import torch\n",
    "from torchvision import datasets, transforms\n",
    "import numpy as np\n",
    "import matplotlib.pyplot as plt\n",
    "import pandas as pd\n",
    "from sklearn.metrics import accuracy_score"
   ]
  },
  {
   "cell_type": "markdown",
   "id": "ee94828e",
   "metadata": {},
   "source": [
    "##### Downloading CIFAR 10 Dataset"
   ]
  },
  {
   "cell_type": "code",
   "execution_count": 79,
   "id": "4269dadc",
   "metadata": {},
   "outputs": [
    {
     "name": "stdout",
     "output_type": "stream",
     "text": [
      "Files already downloaded and verified\n",
      "Files already downloaded and verified\n"
     ]
    }
   ],
   "source": [
    "transform = transforms.Compose([transforms.Resize((32,32)),\n",
    "                                transforms.ToTensor(),\n",
    "                                transforms.Normalize((0.5, 0.5, 0.5), (0.5, 0.5, 0.5))\n",
    "                                ])\n",
    "\n",
    "train_set = datasets.CIFAR10(root='./data', train = True, download = True, transform = transform)\n",
    "test_set = datasets.CIFAR10(root='./data', train = False, download = True, transform = transform)"
   ]
  },
  {
   "cell_type": "code",
   "execution_count": 3,
   "id": "2c8a87af",
   "metadata": {},
   "outputs": [
    {
     "data": {
      "text/plain": [
       "(tensor([[[ 0.2078, -0.0118, -0.1765,  ..., -0.2863, -0.3176, -0.3804],\n",
       "          [ 0.0980,  0.1373, -0.0196,  ..., -0.2471, -0.3961, -0.4431],\n",
       "          [ 0.0980,  0.0902, -0.0980,  ..., -0.3804, -0.4667, -0.4745],\n",
       "          ...,\n",
       "          [ 0.3725,  0.2235,  0.2078,  ..., -0.6706, -0.5216, -0.2706],\n",
       "          [ 0.2941,  0.2235,  0.2471,  ..., -0.1922, -0.0353,  0.0275],\n",
       "          [ 0.2784,  0.2392,  0.2784,  ...,  0.1216,  0.1216,  0.1216]],\n",
       " \n",
       "         [[ 0.3882,  0.0745, -0.1843,  ..., -0.2549, -0.2941, -0.3647],\n",
       "          [ 0.2549,  0.2000, -0.0196,  ..., -0.2235, -0.3725, -0.4275],\n",
       "          [ 0.2157,  0.1451, -0.0980,  ..., -0.3569, -0.4510, -0.4588],\n",
       "          ...,\n",
       "          [ 0.3098,  0.2078,  0.2549,  ..., -0.7333, -0.5843, -0.3490],\n",
       "          [ 0.2078,  0.1922,  0.2627,  ..., -0.2706, -0.1059, -0.0510],\n",
       "          [ 0.1608,  0.1608,  0.2235,  ...,  0.0431,  0.0510,  0.0431]],\n",
       " \n",
       "         [[ 0.4667,  0.0667, -0.2549,  ..., -0.4431, -0.4431, -0.4510],\n",
       "          [ 0.3255,  0.2078, -0.0745,  ..., -0.3882, -0.5137, -0.5216],\n",
       "          [ 0.2863,  0.1686, -0.1216,  ..., -0.4980, -0.5686, -0.5686],\n",
       "          ...,\n",
       "          [ 0.3020,  0.2549,  0.3333,  ..., -0.7176, -0.5529, -0.2863],\n",
       "          [ 0.0039,  0.0196,  0.1137,  ..., -0.2471, -0.0588,  0.0275],\n",
       "          [-0.0588, -0.0431,  0.0431,  ...,  0.0902,  0.1137,  0.1294]]]),\n",
       " 9)"
      ]
     },
     "execution_count": 3,
     "metadata": {},
     "output_type": "execute_result"
    }
   ],
   "source": [
    "train_set[1]"
   ]
  },
  {
   "cell_type": "code",
   "execution_count": 80,
   "id": "c1404a38",
   "metadata": {},
   "outputs": [],
   "source": [
    "classes = ('plane', 'car', 'bird', 'cat', 'deer', 'dog', 'frog', 'horse', 'ship', 'truck')"
   ]
  },
  {
   "cell_type": "code",
   "execution_count": 81,
   "id": "e8de1b02",
   "metadata": {},
   "outputs": [
    {
     "name": "stdout",
     "output_type": "stream",
     "text": [
      "Training set samples: 50000\n",
      "Test set samples: 10000\n"
     ]
    }
   ],
   "source": [
    "print('Training set samples:', len(train_set))\n",
    "print('Test set samples:', len(test_set))"
   ]
  },
  {
   "cell_type": "code",
   "execution_count": 82,
   "id": "4886dacb",
   "metadata": {},
   "outputs": [],
   "source": [
    "def im_convert(tensor):  \n",
    "  image = tensor.cpu().clone().detach().numpy() # This process will happen in normal cpu.\n",
    "  image = image.transpose(1, 2, 0)\n",
    "  image = image * np.array((0.5, 0.5, 0.5)) + np.array((0.5, 0.5, 0.5))\n",
    "  image = image.clip(0, 1)\n",
    "  return image"
   ]
  },
  {
   "cell_type": "code",
   "execution_count": 83,
   "id": "ce7506f1",
   "metadata": {},
   "outputs": [
    {
     "name": "stdout",
     "output_type": "stream",
     "text": [
      "2500\n",
      "500\n"
     ]
    }
   ],
   "source": [
    "train_loader = torch.utils.data.DataLoader(train_set, batch_size = 20)\n",
    "test_loader = torch.utils.data.DataLoader(test_set, batch_size = 20 )\n",
    "print(len(train_loader))\n",
    "print(len(test_loader))"
   ]
  },
  {
   "cell_type": "code",
   "execution_count": 84,
   "id": "003352e0",
   "metadata": {},
   "outputs": [
    {
     "name": "stdout",
     "output_type": "stream",
     "text": [
      "tensor([[[ 1.0000,  0.9843,  0.9843,  ...,  0.9843,  0.9843,  0.9843],\n",
      "         [ 1.0000,  1.0000,  1.0000,  ...,  1.0000,  1.0000,  1.0000],\n",
      "         [ 1.0000,  0.9922,  0.9922,  ...,  0.9922,  0.9922,  0.9922],\n",
      "         ...,\n",
      "         [-0.1137, -0.1294, -0.1765,  ..., -0.4353, -0.4353, -0.4353],\n",
      "         [-0.1294, -0.1843, -0.2235,  ..., -0.4667, -0.4510, -0.3882],\n",
      "         [-0.1686, -0.2235, -0.2549,  ..., -0.3882, -0.3804, -0.3725]],\n",
      "\n",
      "        [[ 1.0000,  0.9843,  0.9843,  ...,  0.9843,  0.9843,  0.9843],\n",
      "         [ 1.0000,  1.0000,  1.0000,  ...,  1.0000,  1.0000,  1.0000],\n",
      "         [ 1.0000,  0.9922,  0.9922,  ...,  0.9922,  0.9922,  0.9922],\n",
      "         ...,\n",
      "         [-0.0588, -0.0745, -0.1216,  ..., -0.3647, -0.3725, -0.3725],\n",
      "         [-0.0745, -0.1294, -0.1686,  ..., -0.4118, -0.4039, -0.3412],\n",
      "         [-0.1137, -0.1686, -0.2000,  ..., -0.3333, -0.3333, -0.3255]],\n",
      "\n",
      "        [[ 1.0000,  0.9843,  0.9843,  ...,  0.9843,  0.9843,  0.9843],\n",
      "         [ 1.0000,  1.0000,  1.0000,  ...,  1.0000,  1.0000,  1.0000],\n",
      "         [ 1.0000,  0.9922,  0.9922,  ...,  0.9922,  0.9922,  0.9922],\n",
      "         ...,\n",
      "         [-0.1216, -0.1294, -0.1686,  ..., -0.3725, -0.3804, -0.3804],\n",
      "         [-0.1373, -0.1843, -0.2314,  ..., -0.4275, -0.4118, -0.3569],\n",
      "         [-0.1765, -0.2314, -0.2627,  ..., -0.3490, -0.3490, -0.3412]]])\n"
     ]
    }
   ],
   "source": [
    "dataiter = iter(train_loader)\n",
    "images, labels = dataiter.next()\n",
    "print(images[2])"
   ]
  },
  {
   "cell_type": "code",
   "execution_count": 85,
   "id": "76858350",
   "metadata": {},
   "outputs": [
    {
     "name": "stdout",
     "output_type": "stream",
     "text": [
      "torch.Size([3, 32, 32])\n"
     ]
    }
   ],
   "source": [
    "print(images[2].shape)"
   ]
  },
  {
   "cell_type": "code",
   "execution_count": 86,
   "id": "6d78ee8b",
   "metadata": {},
   "outputs": [
    {
     "data": {
      "image/png": "[encoded data removed]",
      "text/plain": [
       "<Figure size 1800x288 with 20 Axes>"
      ]
     },
     "metadata": {},
     "output_type": "display_data"
    }
   ],
   "source": [
    "dataiter = iter(train_loader)\n",
    "images, labels = dataiter.next()\n",
    "fig = plt.figure(figsize=(25, 4)) \n",
    "\n",
    "# We plot 20 images from our train_dataset\n",
    "for idx in np.arange(20):\n",
    "  ax = fig.add_subplot(2, 10, idx+1, xticks=[], yticks=[]) \n",
    "  plt.imshow(im_convert(images[idx])) #converting to numpy array as plt needs it.\n",
    "  ax.set_title(classes[labels[idx].item()])"
   ]
  },
  {
   "cell_type": "code",
   "execution_count": 87,
   "id": "ef6ca0d4",
   "metadata": {},
   "outputs": [],
   "source": [
    "# Converting to numpy\n",
    "# Separating trainset/testset data/label\n",
    "X_train  = train_set.data\n",
    "X_test  = test_set.data\n",
    "Y_train = np.array(train_set.targets)\n",
    "Y_test  = np.array(test_set.targets)\n",
    "\n",
    "# flatten out all images to be one-dimensional\n",
    "X_train_rows = X_train.reshape(X_train.shape[0], 32 * 32 * 3)  # converting to row vector \n",
    "X_test_rows = X_test.reshape(X_test.shape[0], 32 * 32 * 3)     # converting to row vector"
   ]
  },
  {
   "cell_type": "code",
   "execution_count": 88,
   "id": "3371d720",
   "metadata": {},
   "outputs": [
    {
     "name": "stdout",
     "output_type": "stream",
     "text": [
      "<class 'numpy.ndarray'>\n",
      "(50000, 32, 32, 3)\n",
      "(32, 32, 3)\n",
      "<class 'numpy.ndarray'>\n",
      "After converted to row vector:  (3072,)\n"
     ]
    }
   ],
   "source": [
    "print(type(X_train[1]))\n",
    "print(X_train.shape)\n",
    "print(X_train[1].shape)\n",
    "print(type(X_train_rows[1]))\n",
    "print('After converted to row vector: ', X_train_rows[1].shape)"
   ]
  },
  {
   "cell_type": "code",
   "execution_count": 89,
   "id": "0ca5cba3",
   "metadata": {},
   "outputs": [
    {
     "data": {
      "text/plain": [
       "array([154, 177, 187, ..., 143, 133, 144], dtype=uint8)"
      ]
     },
     "execution_count": 89,
     "metadata": {},
     "output_type": "execute_result"
    }
   ],
   "source": [
    "X_train_rows[1]"
   ]
  },
  {
   "cell_type": "code",
   "execution_count": 90,
   "id": "b52fddf0",
   "metadata": {},
   "outputs": [],
   "source": [
    "# One hot labels for training data \n",
    "one_hot_labels = np.zeros((50000, 10))      # As our train set has 50000 data and 10 classes\n",
    "for i in range (50000):\n",
    "    one_hot_labels[i, Y_train[i]] = 1"
   ]
  },
  {
   "cell_type": "code",
   "execution_count": 91,
   "id": "ff57f3ec",
   "metadata": {},
   "outputs": [
    {
     "data": {
      "text/plain": [
       "array([0., 1., 0., 0., 0., 0., 0., 0., 0., 0.])"
      ]
     },
     "execution_count": 91,
     "metadata": {},
     "output_type": "execute_result"
    }
   ],
   "source": [
    "one_hot_labels[5]"
   ]
  },
  {
   "cell_type": "code",
   "execution_count": 92,
   "id": "07ae698d",
   "metadata": {},
   "outputs": [
    {
     "data": {
      "text/plain": [
       "array([1., 0., 0., 0., 0., 0., 0., 0., 0., 0.])"
      ]
     },
     "execution_count": 92,
     "metadata": {},
     "output_type": "execute_result"
    }
   ],
   "source": [
    "one_hot_labels[555]"
   ]
  },
  {
   "cell_type": "markdown",
   "id": "1b9ce913",
   "metadata": {},
   "source": [
    "##### Defining sigmoid, sigmoid deravative and softmax function"
   ]
  },
  {
   "cell_type": "code",
   "execution_count": 93,
   "id": "1a33b890",
   "metadata": {},
   "outputs": [],
   "source": [
    "def sigmoid(x):\n",
    "    return 1/(1+np.exp(-x))\n",
    "\n",
    "def sigmoid_der(x):\n",
    "    return sigmoid(x) *(1-sigmoid (x))\n",
    "\n",
    "def softmax(A):\n",
    "    expA = np.exp(A)\n",
    "    return expA / expA.sum(axis=1, keepdims=True)"
   ]
  },
  {
   "cell_type": "markdown",
   "id": "aa4b35f8",
   "metadata": {},
   "source": [
    "##### Building three layer neural network (two hidden layer and one output layer)"
   ]
  },
  {
   "cell_type": "code",
   "execution_count": 94,
   "id": "74bb2e08",
   "metadata": {},
   "outputs": [
    {
     "name": "stdout",
     "output_type": "stream",
     "text": [
      "50000 3072\n"
     ]
    }
   ],
   "source": [
    "instances = X_train_rows.shape[0]\n",
    "attributes = X_train_rows.shape[1]\n",
    "print(instances, attributes)"
   ]
  },
  {
   "cell_type": "code",
   "execution_count": 95,
   "id": "23801c4c",
   "metadata": {},
   "outputs": [
    {
     "name": "stdout",
     "output_type": "stream",
     "text": [
      "Loss function value:  315136.1746229307\n",
      "Loss function value:  2541646.8353977636\n",
      "Loss function value:  4715079.856688672\n",
      "Loss function value:  6824243.558809915\n",
      "Loss function value:  8159538.595909369\n",
      "Loss function value:  10299518.12429281\n",
      "Loss function value:  11174386.8034213\n",
      "Loss function value:  13338004.79707062\n",
      "Loss function value:  13506692.97607325\n",
      "Loss function value:  15669355.670618674\n"
     ]
    }
   ],
   "source": [
    "instances = X_train_rows.shape[0]\n",
    "attributes = X_train_rows.shape[1]\n",
    "\n",
    "hidden_layer1 = 1000\n",
    "hidden_layer2 = 100\n",
    "output_layer = 10\n",
    "\n",
    "np.random.seed(42)\n",
    "\n",
    "wh1 = np.random.rand(attributes, hidden_layer1)        # 3072 * 1000\n",
    "bh1 = np.random.randn(hidden_layer1)                   # 1000\n",
    "\n",
    "wh2 = np.random.rand(hidden_layer1, hidden_layer2)      # 1000 * 100\n",
    "bh2 = np.random.randn(hidden_layer2)                    #100\n",
    "\n",
    "wo = np.random.rand(hidden_layer2, output_layer)        # 100 * 10\n",
    "bo = np.random.randn(output_layer)                      # 10\n",
    "\n",
    "lr = 0.0001\n",
    "\n",
    "error_cost = []\n",
    "\n",
    "for epoch in range (10):\n",
    "    #############################\n",
    "    ######## Feedforward ########\n",
    "    #############################\n",
    "    \n",
    "    # phase 1\n",
    "    zh1 = np.dot(X_train_rows, wh1) + bh1\n",
    "    ah1 = sigmoid(zh1)\n",
    "    \n",
    "    # phase 2\n",
    "    zh2 = np.dot(ah1, wh2) + bh2\n",
    "    ah2 = sigmoid(zh2)\n",
    "    \n",
    "    # phase 3\n",
    "    zo = np.dot(ah2, wo) + bo\n",
    "    ao = softmax(zo)\n",
    "    \n",
    "    ##################################\n",
    "    ######## Back propagation ########\n",
    "    ##################################\n",
    "    \n",
    "    # phase 1\n",
    "    \n",
    "    dcost_dzo = ao - one_hot_labels\n",
    "    dzo_dwo = ah2\n",
    "    dcost_wo = np.dot(dzo_dwo.T, dcost_dzo)\n",
    "    dcost_bo = dcost_dzo\n",
    "    \n",
    "    # phase 2\n",
    "    \n",
    "    dzo_dah2 = wo\n",
    "    dcost_dah2 = np.dot(dcost_dzo, dzo_dah2.T)\n",
    "    dah2_dzh2 = sigmoid_der(zh2)\n",
    "    dzh2_dwh2 = ah1\n",
    "    dcost_w2 = np.dot(dzh2_dwh2.T, dah2_dzh2 * dcost_dah2)\n",
    "    dcost_bh2 = dcost_dah2 * dah2_dzh2\n",
    "    \n",
    "    # phase 3\n",
    "    dzh2_dah1 = wh2 \n",
    "    dcost_dzh2 = dcost_dah2 * dah2_dzh2 \n",
    "    dcost_dah1 = np.dot(dcost_dzh2, dzh2_dah1.T)\n",
    "    dah1_dzh1 = sigmoid_der(zh1)\n",
    "    dzh1_dw1 = X_train_rows\n",
    "    dcost_w1 = np.dot(dzh1_dw1.T, dcost_dah1 * dah1_dzh1)\n",
    "    \n",
    "    dcost_bh1 = dcost_dah1 * dah1_dzh1\n",
    "    \n",
    "    #### Update weights and bias ######\n",
    "    \n",
    "    wh1 -= lr * dcost_w1\n",
    "    bh1 -= lr * dcost_bh1.sum(axis=0)\n",
    "    \n",
    "    wh2 -= lr * dcost_w2\n",
    "    bh2 -= lr * dcost_bh2.sum(axis=0)\n",
    "    \n",
    "    wo -= lr * dcost_wo\n",
    "    bo -= lr * dcost_bo.sum(axis=0)\n",
    "    \n",
    "    \n",
    "    loss = np.sum(-one_hot_labels * np.log(ao))\n",
    "    print('Loss function value: ', loss)\n",
    "    error_cost.append(loss)\n",
    "    "
   ]
  },
  {
   "cell_type": "code",
   "execution_count": 32,
   "id": "aa9bc9ed",
   "metadata": {},
   "outputs": [
    {
     "data": {
      "text/plain": [
       "array([[0.37454012, 0.95071431, 0.73199394, ..., 0.13681863, 0.95023735,\n",
       "        0.44600577],\n",
       "       [0.18513293, 0.54190095, 0.87294584, ..., 0.06895802, 0.05705472,\n",
       "        0.28218707],\n",
       "       [0.26170568, 0.2469788 , 0.90625458, ..., 0.30978786, 0.29004553,\n",
       "        0.87141403],\n",
       "       ...,\n",
       "       [0.146626  , 0.06055295, 0.02363703, ..., 0.55279711, 0.84883805,\n",
       "        0.5989377 ],\n",
       "       [0.41229822, 0.76369006, 0.39738906, ..., 0.50913062, 0.7864801 ,\n",
       "        0.52835075],\n",
       "       [0.38526014, 0.77287447, 0.65283495, ..., 0.81450478, 0.99987011,\n",
       "        0.65693526]])"
      ]
     },
     "execution_count": 32,
     "metadata": {},
     "output_type": "execute_result"
    }
   ],
   "source": [
    "wh1"
   ]
  },
  {
   "cell_type": "code",
   "execution_count": 96,
   "id": "bf1957ae",
   "metadata": {},
   "outputs": [],
   "source": [
    " def prediction(test_data):\n",
    "        \n",
    "        predicted_class = np.zeros(test_data.shape[0], dtype = test_data.dtype)\n",
    "        \n",
    "        for i in range (len(test_data)):\n",
    "            # phase 1\n",
    "            zh1 = np.dot(X_train_rows, wh1) + bh1\n",
    "            ah1 = sigmoid(zh1)\n",
    "            \n",
    "            # phase 2\n",
    "            zh2 = np.dot(ah1, wh2) + bh2\n",
    "            ah2 = sigmoid(zh2)\n",
    "            # phase 3\n",
    "            zo = np.dot(ah2, wo) + bo\n",
    "            ao = softmax(zo)\n",
    "            #ao = np.argmax(ao, axis = 1)\n",
    "            ao = np.argmax(ao)\n",
    "            predicted_class[i] = ao\n",
    "            \n",
    "        return predicted_class\n",
    "            \n",
    "        "
   ]
  },
  {
   "cell_type": "code",
   "execution_count": 97,
   "id": "f752bcbc",
   "metadata": {},
   "outputs": [
    {
     "name": "stdout",
     "output_type": "stream",
     "text": [
      "(10000, 3072)\n"
     ]
    }
   ],
   "source": [
    "print(X_test_rows.shape)"
   ]
  },
  {
   "cell_type": "code",
   "execution_count": 100,
   "id": "1c240295",
   "metadata": {},
   "outputs": [],
   "source": [
    "def softmax(A):\n",
    "    expA = np.exp(A)\n",
    "    return expA / expA.sum()"
   ]
  },
  {
   "cell_type": "code",
   "execution_count": 105,
   "id": "5570e6be",
   "metadata": {},
   "outputs": [
    {
     "name": "stdout",
     "output_type": "stream",
     "text": [
      "[1. 1. 1. 1. 1. 1. 1. 1. 1. 1. 1. 1. 1. 1. 1. 1. 1. 1. 1. 1. 1. 1. 1. 1.\n",
      " 1. 1. 1. 1. 1. 1. 1. 1. 1. 1. 1. 1. 1. 1. 1. 1. 1. 1. 1. 1. 1. 1. 1. 1.\n",
      " 1. 1. 1. 1. 1. 1. 1. 1. 1. 1. 1. 1. 1. 1. 1. 1. 1. 1. 1. 1. 1. 1. 1. 1.\n",
      " 1. 1. 1. 1. 1. 1. 1. 1. 1. 1. 1. 1. 1. 1. 1. 1. 1. 1. 1. 1. 1. 1. 1. 1.\n",
      " 1. 1. 1. 1. 1. 1. 1. 1. 1. 1. 1. 1. 1. 1. 1. 1. 1. 1. 1. 1. 1. 1. 1. 1.\n",
      " 1. 1. 1. 1. 1. 1. 1. 1. 1. 1. 1. 1. 1. 1. 1. 1. 1. 1. 1. 1. 1. 1. 1. 1.\n",
      " 1. 1. 1. 1. 1. 1. 1. 1. 1. 1. 1. 1. 1. 1. 1. 1. 1. 1. 1. 1. 1. 1. 1. 1.\n",
      " 1. 1. 1. 1. 1. 1. 1. 1. 1. 1. 1. 1. 1. 1. 1. 1. 1. 1. 1. 1. 1. 1. 1. 1.\n",
      " 1. 1. 1. 1. 1. 1. 1. 1. 1. 1. 1. 1. 1. 1. 1. 1. 1. 1. 1. 1. 1. 1. 1. 1.\n",
      " 1. 1. 1. 1. 1. 1. 1. 1. 1. 1. 1. 1. 1. 1. 1. 1. 1. 1. 1. 1. 1. 1. 1. 1.\n",
      " 1. 1. 1. 1. 1. 1. 1. 1. 1. 1. 1. 1. 1. 1. 1. 1. 1. 1. 1. 1. 1. 1. 1. 1.\n",
      " 1. 1. 1. 1. 1. 1. 1. 1. 1. 1. 1. 1. 1. 1. 1. 1. 1. 1. 1. 1. 1. 1. 1. 1.\n",
      " 1. 1. 1. 1. 1. 1. 1. 1. 1. 1. 1. 1. 1. 1. 1. 1. 1. 1. 1. 1. 1. 1. 1. 1.\n",
      " 1. 1. 1. 1. 1. 1. 1. 1. 1. 1. 1. 1. 1. 1. 1. 1. 1. 1. 1. 1. 1. 1. 1. 1.\n",
      " 1. 1. 1. 1. 1. 1. 1. 1. 1. 1. 1. 1. 1. 1. 1. 1. 1. 1. 1. 1. 1. 1. 1. 1.\n",
      " 1. 1. 1. 1. 1. 1. 1. 1. 1. 1. 1. 1. 1. 1. 1. 1. 1. 1. 1. 1. 1. 1. 1. 1.\n",
      " 1. 1. 1. 1. 1. 1. 1. 1. 1. 1. 1. 1. 1. 1. 1. 1. 1. 1. 1. 1. 1. 1. 1. 1.\n",
      " 1. 1. 1. 1. 1. 1. 1. 1. 1. 1. 1. 1. 1. 1. 1. 1. 1. 1. 1. 1. 1. 1. 1. 1.\n",
      " 1. 1. 1. 1. 1. 1. 1. 1. 1. 1. 1. 1. 1. 1. 1. 1. 1. 1. 1. 1. 1. 1. 1. 1.\n",
      " 1. 1. 1. 1. 1. 1. 1. 1. 1. 1. 1. 1. 1. 1. 1. 1. 1. 1. 1. 1. 1. 1. 1. 1.\n",
      " 1. 1. 1. 1. 1. 1. 1. 1. 1. 1. 1. 1. 1. 1. 1. 1. 1. 1. 1. 1. 1. 1. 1. 1.\n",
      " 1. 1. 1. 1. 1. 1. 1. 1. 1. 1. 1. 1. 1. 1. 1. 1. 1. 1. 1. 1. 1. 1. 1. 1.\n",
      " 1. 1. 1. 1. 1. 1. 1. 1. 1. 1. 1. 1. 1. 1. 1. 1. 1. 1. 1. 1. 1. 1. 1. 1.\n",
      " 1. 1. 1. 1. 1. 1. 1. 1. 1. 1. 1. 1. 1. 1. 1. 1. 1. 1. 1. 1. 1. 1. 1. 1.\n",
      " 1. 1. 1. 1. 1. 1. 1. 1. 1. 1. 1. 1. 1. 1. 1. 1. 1. 1. 1. 1. 1. 1. 1. 1.\n",
      " 1. 1. 1. 1. 1. 1. 1. 1. 1. 1. 1. 1. 1. 1. 1. 1. 1. 1. 1. 1. 1. 1. 1. 1.\n",
      " 1. 1. 1. 1. 1. 1. 1. 1. 1. 1. 1. 1. 1. 1. 1. 1. 1. 1. 1. 1. 1. 1. 1. 1.\n",
      " 1. 1. 1. 1. 1. 1. 1. 1. 1. 1. 1. 1. 1. 1. 1. 1. 1. 1. 1. 1. 1. 1. 1. 1.\n",
      " 1. 1. 1. 1. 1. 1. 1. 1. 1. 1. 1. 1. 1. 1. 1. 1. 1. 1. 1. 1. 1. 1. 1. 1.\n",
      " 1. 1. 1. 1. 1. 1. 1. 1. 1. 1. 1. 1. 1. 1. 1. 1. 1. 1. 1. 1. 1. 1. 1. 1.\n",
      " 1. 1. 1. 1. 1. 1. 1. 1. 1. 1. 1. 1. 1. 1. 1. 1. 1. 1. 1. 1. 1. 1. 1. 1.\n",
      " 1. 1. 1. 1. 1. 1. 1. 1. 1. 1. 1. 1. 1. 1. 1. 1. 1. 1. 1. 1. 1. 1. 1. 1.\n",
      " 1. 1. 1. 1. 1. 1. 1. 1. 1. 1. 1. 1. 1. 1. 1. 1. 1. 1. 1. 1. 1. 1. 1. 1.\n",
      " 1. 1. 1. 1. 1. 1. 1. 1. 1. 1. 1. 1. 1. 1. 1. 1. 1. 1. 1. 1. 1. 1. 1. 1.\n",
      " 1. 1. 1. 1. 1. 1. 1. 1. 1. 1. 1. 1. 1. 1. 1. 1. 1. 1. 1. 1. 1. 1. 1. 1.\n",
      " 1. 1. 1. 1. 1. 1. 1. 1. 1. 1. 1. 1. 1. 1. 1. 1. 1. 1. 1. 1. 1. 1. 1. 1.\n",
      " 1. 1. 1. 1. 1. 1. 1. 1. 1. 1. 1. 1. 1. 1. 1. 1. 1. 1. 1. 1. 1. 1. 1. 1.\n",
      " 1. 1. 1. 1. 1. 1. 1. 1. 1. 1. 1. 1. 1. 1. 1. 1. 1. 1. 1. 1. 1. 1. 1. 1.\n",
      " 1. 1. 1. 1. 1. 1. 1. 1. 1. 1. 1. 1. 1. 1. 1. 1. 1. 1. 1. 1. 1. 1. 1. 1.\n",
      " 1. 1. 1. 1. 1. 1. 1. 1. 1. 1. 1. 1. 1. 1. 1. 1. 1. 1. 1. 1. 1. 1. 1. 1.\n",
      " 1. 1. 1. 1. 1. 1. 1. 1. 1. 1. 1. 1. 1. 1. 1. 1. 1. 1. 1. 1. 1. 1. 1. 1.\n",
      " 1. 1. 1. 1. 1. 1. 1. 1. 1. 1. 1. 1. 1. 1. 1. 1.]\n",
      "zh2:  [505.8124687  501.66015435 513.69131358 499.00472334 505.83327994\n",
      " 492.25995711 501.20652257 494.5880384  493.50187823 504.5872657\n",
      " 484.15520032 503.78646612 484.52918196 483.78194004 505.4860731\n",
      " 489.26982497 503.40686268 505.8855685  506.43192554 528.11934783\n",
      " 498.94856031 509.78515633 503.46825743 511.36460732 508.4152443\n",
      " 501.4723654  506.54210033 506.90453926 495.66827792 505.90685493\n",
      " 500.62264037 498.51602595 504.03184018 497.93808747 493.02780172\n",
      " 478.95213974 492.04968436 511.37943534 498.75930261 497.04841238\n",
      " 532.31316014 494.99432136 502.48462374 493.57889795 507.77680809\n",
      " 470.97199476 486.59287556 505.91132648 508.57349365 499.93606345\n",
      " 503.12663235 506.83333797 498.98586556 499.93335131 507.30119286\n",
      " 507.32016239 513.03349063 505.59648095 494.95774656 494.63078499\n",
      " 489.30023576 517.43934016 505.83217826 493.92851684 486.43453967\n",
      " 497.95383694 502.14323045 504.10597657 494.47106376 517.15067188\n",
      " 502.50757865 510.94370131 508.52077916 482.83871311 514.52716437\n",
      " 509.40287277 497.6556119  494.2448947  494.89976774 502.69399186\n",
      " 505.24810525 488.54023363 501.57315212 504.43836892 476.10018987\n",
      " 507.23048464 505.52531277 509.0526248  509.9280199  496.33466688\n",
      " 514.25561566 509.56063973 507.26742945 504.30076026 490.03020399\n",
      " 480.56174693 501.99239682 504.54637747 500.45267426 503.21506565]\n",
      "[1. 1. 1. 1. 1. 1. 1. 1. 1. 1. 1. 1. 1. 1. 1. 1. 1. 1. 1. 1. 1. 1. 1. 1.\n",
      " 1. 1. 1. 1. 1. 1. 1. 1. 1. 1. 1. 1. 1. 1. 1. 1. 1. 1. 1. 1. 1. 1. 1. 1.\n",
      " 1. 1. 1. 1. 1. 1. 1. 1. 1. 1. 1. 1. 1. 1. 1. 1. 1. 1. 1. 1. 1. 1. 1. 1.\n",
      " 1. 1. 1. 1. 1. 1. 1. 1. 1. 1. 1. 1. 1. 1. 1. 1. 1. 1. 1. 1. 1. 1. 1. 1.\n",
      " 1. 1. 1. 1.]\n",
      "zo:  [ 77.67135163  56.05137724  14.01038914 302.91475614   3.99911641\n",
      " -90.60413266 -28.08180687 170.9097149  -36.23115013  34.44792349]\n",
      "[1.50671925e-098 6.14605946e-108 3.39177951e-126 1.00000000e+000\n",
      " 1.52260451e-130 1.25002319e-171 1.77835785e-144 4.68747544e-058\n",
      " 5.13812123e-148 2.54880145e-117]\n",
      "3\n"
     ]
    }
   ],
   "source": [
    "zh1 = np.dot(X_train_rows[67], wh1) + bh1\n",
    "ah1 = sigmoid(zh1)\n",
    "print(ah1)\n",
    "            # phase 2\n",
    "zh2 = np.dot(ah1, wh2) + bh2\n",
    "print('zh2: ', zh2)\n",
    "ah2 = sigmoid(zh2)\n",
    "print(ah2)\n",
    "            # phase 3\n",
    "zo = np.dot(ah2, wo) + bo\n",
    "print('zo: ', zo)\n",
    "ao = softmax(zo)\n",
    "print(ao)\n",
    "            #ao = np.argmax(ao, axis = 1)\n",
    "ao = np.argmax(ao)\n",
    "\n",
    "print(ao)"
   ]
  },
  {
   "cell_type": "code",
   "execution_count": 98,
   "id": "0d241041",
   "metadata": {},
   "outputs": [
    {
     "ename": "KeyboardInterrupt",
     "evalue": "",
     "output_type": "error",
     "traceback": [
      "\u001b[1;31m---------------------------------------------------------------------------\u001b[0m",
      "\u001b[1;31mKeyboardInterrupt\u001b[0m                         Traceback (most recent call last)",
      "\u001b[1;32m<ipython-input-98-ad284f246574>\u001b[0m in \u001b[0;36m<module>\u001b[1;34m\u001b[0m\n\u001b[1;32m----> 1\u001b[1;33m \u001b[0mpredicted_test\u001b[0m \u001b[1;33m=\u001b[0m \u001b[0mprediction\u001b[0m\u001b[1;33m(\u001b[0m\u001b[0mX_test_rows\u001b[0m\u001b[1;33m[\u001b[0m\u001b[1;36m2\u001b[0m\u001b[1;33m]\u001b[0m\u001b[1;33m)\u001b[0m\u001b[1;33m\u001b[0m\u001b[1;33m\u001b[0m\u001b[0m\n\u001b[0m",
      "\u001b[1;32m<ipython-input-96-1a8f78c78cb7>\u001b[0m in \u001b[0;36mprediction\u001b[1;34m(test_data)\u001b[0m\n\u001b[0;32m      5\u001b[0m        \u001b[1;32mfor\u001b[0m \u001b[0mi\u001b[0m \u001b[1;32min\u001b[0m \u001b[0mrange\u001b[0m \u001b[1;33m(\u001b[0m\u001b[0mlen\u001b[0m\u001b[1;33m(\u001b[0m\u001b[0mtest_data\u001b[0m\u001b[1;33m)\u001b[0m\u001b[1;33m)\u001b[0m\u001b[1;33m:\u001b[0m\u001b[1;33m\u001b[0m\u001b[1;33m\u001b[0m\u001b[0m\n\u001b[0;32m      6\u001b[0m            \u001b[1;31m# phase 1\u001b[0m\u001b[1;33m\u001b[0m\u001b[1;33m\u001b[0m\u001b[1;33m\u001b[0m\u001b[0m\n\u001b[1;32m----> 7\u001b[1;33m            \u001b[0mzh1\u001b[0m \u001b[1;33m=\u001b[0m \u001b[0mnp\u001b[0m\u001b[1;33m.\u001b[0m\u001b[0mdot\u001b[0m\u001b[1;33m(\u001b[0m\u001b[0mX_train_rows\u001b[0m\u001b[1;33m,\u001b[0m \u001b[0mwh1\u001b[0m\u001b[1;33m)\u001b[0m \u001b[1;33m+\u001b[0m \u001b[0mbh1\u001b[0m\u001b[1;33m\u001b[0m\u001b[1;33m\u001b[0m\u001b[0m\n\u001b[0m\u001b[0;32m      8\u001b[0m            \u001b[0mah1\u001b[0m \u001b[1;33m=\u001b[0m \u001b[0msigmoid\u001b[0m\u001b[1;33m(\u001b[0m\u001b[0mzh1\u001b[0m\u001b[1;33m)\u001b[0m\u001b[1;33m\u001b[0m\u001b[1;33m\u001b[0m\u001b[0m\n\u001b[0;32m      9\u001b[0m \u001b[1;33m\u001b[0m\u001b[0m\n",
      "\u001b[1;32m<__array_function__ internals>\u001b[0m in \u001b[0;36mdot\u001b[1;34m(*args, **kwargs)\u001b[0m\n",
      "\u001b[1;31mKeyboardInterrupt\u001b[0m: "
     ]
    }
   ],
   "source": [
    "predicted_test = prediction(X_test_rows[2])"
   ]
  },
  {
   "cell_type": "code",
   "execution_count": 77,
   "id": "f9710794",
   "metadata": {},
   "outputs": [
    {
     "data": {
      "text/plain": [
       "array([[1., 1., 1., ..., 1., 1., 1.],\n",
       "       [1., 1., 1., ..., 1., 1., 1.],\n",
       "       [1., 1., 1., ..., 1., 1., 1.],\n",
       "       ...,\n",
       "       [1., 1., 1., ..., 1., 1., 1.],\n",
       "       [1., 1., 1., ..., 1., 1., 1.],\n",
       "       [1., 1., 1., ..., 1., 1., 1.]])"
      ]
     },
     "execution_count": 77,
     "metadata": {},
     "output_type": "execute_result"
    }
   ],
   "source": [
    "zh1 = np.dot(X_train_rows, wh1) + bh1\n",
    "ah1 = sigmoid(zh1)\n",
    "ah1"
   ]
  },
  {
   "cell_type": "code",
   "execution_count": 41,
   "id": "2c237a0c",
   "metadata": {},
   "outputs": [
    {
     "data": {
      "text/plain": [
       "8"
      ]
     },
     "execution_count": 41,
     "metadata": {},
     "output_type": "execute_result"
    }
   ],
   "source": [
    "Y_test[1556]"
   ]
  },
  {
   "cell_type": "code",
   "execution_count": 35,
   "id": "eb6c520e",
   "metadata": {},
   "outputs": [
    {
     "ename": "ValueError",
     "evalue": "Classification metrics can't handle a mix of multiclass and multiclass-multioutput targets",
     "output_type": "error",
     "traceback": [
      "\u001b[1;31m---------------------------------------------------------------------------\u001b[0m",
      "\u001b[1;31mValueError\u001b[0m                                Traceback (most recent call last)",
      "\u001b[1;32m<ipython-input-35-de4a850f61a5>\u001b[0m in \u001b[0;36m<module>\u001b[1;34m\u001b[0m\n\u001b[0;32m      1\u001b[0m \u001b[1;31m#printing the accuracy\u001b[0m\u001b[1;33m\u001b[0m\u001b[1;33m\u001b[0m\u001b[1;33m\u001b[0m\u001b[0m\n\u001b[0;32m      2\u001b[0m \u001b[1;32mfrom\u001b[0m \u001b[0msklearn\u001b[0m\u001b[1;33m.\u001b[0m\u001b[0mmetrics\u001b[0m \u001b[1;32mimport\u001b[0m \u001b[0maccuracy_score\u001b[0m\u001b[1;33m\u001b[0m\u001b[1;33m\u001b[0m\u001b[0m\n\u001b[1;32m----> 3\u001b[1;33m \u001b[0mac\u001b[0m \u001b[1;33m=\u001b[0m \u001b[0maccuracy_score\u001b[0m\u001b[1;33m(\u001b[0m\u001b[0mY_train\u001b[0m\u001b[1;33m,\u001b[0m\u001b[0mX_train_rows\u001b[0m\u001b[1;33m)\u001b[0m\u001b[1;33m\u001b[0m\u001b[1;33m\u001b[0m\u001b[0m\n\u001b[0m\u001b[0;32m      4\u001b[0m \u001b[0mprint\u001b[0m\u001b[1;33m(\u001b[0m\u001b[1;34m'Accuracy is: '\u001b[0m\u001b[1;33m,\u001b[0m \u001b[0mac\u001b[0m \u001b[1;33m)\u001b[0m\u001b[1;33m\u001b[0m\u001b[1;33m\u001b[0m\u001b[0m\n",
      "\u001b[1;32m~\\anaconda3\\envs\\deep-learning\\lib\\site-packages\\sklearn\\utils\\validation.py\u001b[0m in \u001b[0;36minner_f\u001b[1;34m(*args, **kwargs)\u001b[0m\n\u001b[0;32m     70\u001b[0m                           FutureWarning)\n\u001b[0;32m     71\u001b[0m         \u001b[0mkwargs\u001b[0m\u001b[1;33m.\u001b[0m\u001b[0mupdate\u001b[0m\u001b[1;33m(\u001b[0m\u001b[1;33m{\u001b[0m\u001b[0mk\u001b[0m\u001b[1;33m:\u001b[0m \u001b[0marg\u001b[0m \u001b[1;32mfor\u001b[0m \u001b[0mk\u001b[0m\u001b[1;33m,\u001b[0m \u001b[0marg\u001b[0m \u001b[1;32min\u001b[0m \u001b[0mzip\u001b[0m\u001b[1;33m(\u001b[0m\u001b[0msig\u001b[0m\u001b[1;33m.\u001b[0m\u001b[0mparameters\u001b[0m\u001b[1;33m,\u001b[0m \u001b[0margs\u001b[0m\u001b[1;33m)\u001b[0m\u001b[1;33m}\u001b[0m\u001b[1;33m)\u001b[0m\u001b[1;33m\u001b[0m\u001b[1;33m\u001b[0m\u001b[0m\n\u001b[1;32m---> 72\u001b[1;33m         \u001b[1;32mreturn\u001b[0m \u001b[0mf\u001b[0m\u001b[1;33m(\u001b[0m\u001b[1;33m**\u001b[0m\u001b[0mkwargs\u001b[0m\u001b[1;33m)\u001b[0m\u001b[1;33m\u001b[0m\u001b[1;33m\u001b[0m\u001b[0m\n\u001b[0m\u001b[0;32m     73\u001b[0m     \u001b[1;32mreturn\u001b[0m \u001b[0minner_f\u001b[0m\u001b[1;33m\u001b[0m\u001b[1;33m\u001b[0m\u001b[0m\n\u001b[0;32m     74\u001b[0m \u001b[1;33m\u001b[0m\u001b[0m\n",
      "\u001b[1;32m~\\anaconda3\\envs\\deep-learning\\lib\\site-packages\\sklearn\\metrics\\_classification.py\u001b[0m in \u001b[0;36maccuracy_score\u001b[1;34m(y_true, y_pred, normalize, sample_weight)\u001b[0m\n\u001b[0;32m    185\u001b[0m \u001b[1;33m\u001b[0m\u001b[0m\n\u001b[0;32m    186\u001b[0m     \u001b[1;31m# Compute accuracy for each possible representation\u001b[0m\u001b[1;33m\u001b[0m\u001b[1;33m\u001b[0m\u001b[1;33m\u001b[0m\u001b[0m\n\u001b[1;32m--> 187\u001b[1;33m     \u001b[0my_type\u001b[0m\u001b[1;33m,\u001b[0m \u001b[0my_true\u001b[0m\u001b[1;33m,\u001b[0m \u001b[0my_pred\u001b[0m \u001b[1;33m=\u001b[0m \u001b[0m_check_targets\u001b[0m\u001b[1;33m(\u001b[0m\u001b[0my_true\u001b[0m\u001b[1;33m,\u001b[0m \u001b[0my_pred\u001b[0m\u001b[1;33m)\u001b[0m\u001b[1;33m\u001b[0m\u001b[1;33m\u001b[0m\u001b[0m\n\u001b[0m\u001b[0;32m    188\u001b[0m     \u001b[0mcheck_consistent_length\u001b[0m\u001b[1;33m(\u001b[0m\u001b[0my_true\u001b[0m\u001b[1;33m,\u001b[0m \u001b[0my_pred\u001b[0m\u001b[1;33m,\u001b[0m \u001b[0msample_weight\u001b[0m\u001b[1;33m)\u001b[0m\u001b[1;33m\u001b[0m\u001b[1;33m\u001b[0m\u001b[0m\n\u001b[0;32m    189\u001b[0m     \u001b[1;32mif\u001b[0m \u001b[0my_type\u001b[0m\u001b[1;33m.\u001b[0m\u001b[0mstartswith\u001b[0m\u001b[1;33m(\u001b[0m\u001b[1;34m'multilabel'\u001b[0m\u001b[1;33m)\u001b[0m\u001b[1;33m:\u001b[0m\u001b[1;33m\u001b[0m\u001b[1;33m\u001b[0m\u001b[0m\n",
      "\u001b[1;32m~\\anaconda3\\envs\\deep-learning\\lib\\site-packages\\sklearn\\metrics\\_classification.py\u001b[0m in \u001b[0;36m_check_targets\u001b[1;34m(y_true, y_pred)\u001b[0m\n\u001b[0;32m     88\u001b[0m \u001b[1;33m\u001b[0m\u001b[0m\n\u001b[0;32m     89\u001b[0m     \u001b[1;32mif\u001b[0m \u001b[0mlen\u001b[0m\u001b[1;33m(\u001b[0m\u001b[0my_type\u001b[0m\u001b[1;33m)\u001b[0m \u001b[1;33m>\u001b[0m \u001b[1;36m1\u001b[0m\u001b[1;33m:\u001b[0m\u001b[1;33m\u001b[0m\u001b[1;33m\u001b[0m\u001b[0m\n\u001b[1;32m---> 90\u001b[1;33m         raise ValueError(\"Classification metrics can't handle a mix of {0} \"\n\u001b[0m\u001b[0;32m     91\u001b[0m                          \"and {1} targets\".format(type_true, type_pred))\n\u001b[0;32m     92\u001b[0m \u001b[1;33m\u001b[0m\u001b[0m\n",
      "\u001b[1;31mValueError\u001b[0m: Classification metrics can't handle a mix of multiclass and multiclass-multioutput targets"
     ]
    }
   ],
   "source": [
    "#printing the accuracy \n",
    "from sklearn.metrics import accuracy_score\n",
    "ac = accuracy_score(Y_test,predicted_test)\n",
    "print('Accuracy is: ', ac )"
   ]
  },
  {
   "cell_type": "code",
   "execution_count": 64,
   "id": "8b672da5",
   "metadata": {},
   "outputs": [],
   "source": [
    "instances = X_train_rows.shape[0]\n",
    "attributes = X_train_rows.shape[1]\n",
    "\n",
    "hidden_layer1 = 1000\n",
    "hidden_layer2 = 100\n",
    "output_layer = 10\n",
    "\n",
    "np.random.seed(42)\n",
    "\n",
    "wh1 = np.random.rand(attributes, hidden_layer1)        # 3072 * 1000\n",
    "bh1 = np.random.randn(hidden_layer1)                     # 1000\n",
    "\n",
    "wh2 = np.random.rand(hidden_layer1, hidden_layer2)      # 1000 * 100\n",
    "bh2 = np.random.randn(hidden_layer2)                     #100\n",
    "\n",
    "wo = np.random.rand(hidden_layer2, output_layer)        # 100 * 10\n",
    "bo = np.random.randn(output_layer)                       # 10\n",
    "\n",
    "lr = 0.0001\n",
    "\n",
    "error_cost = []\n",
    "\n",
    "for epoch in range (10):\n",
    "    ##  Feedforward\n",
    "    \n",
    "    # phase 1\n",
    "    zh1 = np.dot(X_train_rows, wh1) + bh1\n",
    "    ah1 = sigmoid(zh1)\n",
    "    \n",
    "    # phase 2\n",
    "    zh2 = np.dot(zh1, wh2) + bh2\n",
    "    ah2 = sigmoid(zh2)\n",
    "    \n",
    "    # phase 3\n",
    "    zo = np.dot(ah2, wo) + bo\n",
    "    ao = softmax(zo)\n",
    "    \n",
    "    ######## Back \n",
    "    "
   ]
  },
  {
   "cell_type": "code",
   "execution_count": 72,
   "id": "c57381dc",
   "metadata": {},
   "outputs": [
    {
     "name": "stdout",
     "output_type": "stream",
     "text": [
      "[9.58609613e-01 5.98017353e-05 7.91237966e-05 2.05261263e-02\n",
      " 2.40102897e-04 1.51558128e-03 5.10510748e-04 1.50190256e-02\n",
      " 5.68777598e-04 2.87133735e-03]\n"
     ]
    },
    {
     "data": {
      "text/plain": [
       "0.9586096127249156"
      ]
     },
     "execution_count": 72,
     "metadata": {},
     "output_type": "execute_result"
    }
   ],
   "source": [
    "print(ao[1])\n",
    "\n",
    "c = np.max(ao)\n",
    "c"
   ]
  },
  {
   "cell_type": "code",
   "execution_count": null,
   "id": "f64082c6",
   "metadata": {},
   "outputs": [],
   "source": []
  }
 ],
 "metadata": {
  "kernelspec": {
   "display_name": "Python 3",
   "language": "python",
   "name": "python3"
  },
  "language_info": {
   "codemirror_mode": {
    "name": "ipython",
    "version": 3
   },
   "file_extension": ".py",
   "mimetype": "text/x-python",
   "name": "python",
   "nbconvert_exporter": "python",
   "pygments_lexer": "ipython3",
   "version": "3.8.5"
  }
 },
 "nbformat": 4,
 "nbformat_minor": 5
}
